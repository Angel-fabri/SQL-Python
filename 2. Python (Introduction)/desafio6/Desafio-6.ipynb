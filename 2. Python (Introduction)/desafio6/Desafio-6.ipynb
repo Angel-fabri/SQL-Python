version https://git-lfs.github.com/spec/v1
oid sha256:75c6d0058284cb3fbc2aa0d7e3ad91bd6ec00f6e5ade4f3d5b87da9d91611a68
size 68833
