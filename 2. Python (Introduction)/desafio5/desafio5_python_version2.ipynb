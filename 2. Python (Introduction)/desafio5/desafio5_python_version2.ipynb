version https://git-lfs.github.com/spec/v1
oid sha256:e95aff765c1bcc2286b2b018f789ba39b6682abbc295f80c1fa9a00fddbb2c34
size 44505
